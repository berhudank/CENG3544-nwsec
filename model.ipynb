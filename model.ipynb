{
  "cells": [
    {
      "cell_type": "code",
      "execution_count": 3,
      "metadata": {},
      "outputs": [],
      "source": [
        "import pandas as pd\n",
        "import matplotlib.pyplot as plt\n",
        "import seaborn as sbn"
      ]
    },
    {
      "cell_type": "code",
      "execution_count": 4,
      "metadata": {
        "colab": {
          "base_uri": "https://localhost:8080/"
        },
        "id": "79Ivu0ZPjMRV",
        "outputId": "92b3aece-0ff8-44e2-d1c9-e30c83bf8a39"
      },
      "outputs": [],
      "source": [
        "session_path = \"dataset/session_based_dataset.csv\"\n",
        "df_session = pd.read_csv(session_path, low_memory=False)"
      ]
    },
    {
      "cell_type": "code",
      "execution_count": null,
      "metadata": {},
      "outputs": [],
      "source": [
        "df_session.nunique()[\"unique_link_mark\"]"
      ]
    },
    {
      "cell_type": "code",
      "execution_count": null,
      "metadata": {},
      "outputs": [],
      "source": [
        "print(list(df_session.columns))\n",
        "df_session.shape"
      ]
    },
    {
      "cell_type": "code",
      "execution_count": null,
      "metadata": {},
      "outputs": [],
      "source": [
        "pd.set_option('display.max_columns', None)"
      ]
    },
    {
      "cell_type": "code",
      "execution_count": null,
      "metadata": {},
      "outputs": [],
      "source": [
        "sbn.countplot(data=df_session, x='label')"
      ]
    },
    {
      "cell_type": "code",
      "execution_count": null,
      "metadata": {},
      "outputs": [],
      "source": [
        "# for col in df_session.select_dtypes(include='number').columns:\n",
        "#     plt.figure(figsize=(6, 3))\n",
        "#     sbn.histplot(df_session[col], bins=50, kde=True)\n",
        "#     plt.title(f'Distribution of {col}')\n",
        "#     plt.xlabel(col)\n",
        "#     plt.ylabel('Frequency')\n",
        "#     plt.tight_layout()\n",
        "#     plt.show()"
      ]
    },
    {
      "cell_type": "code",
      "execution_count": null,
      "metadata": {},
      "outputs": [],
      "source": [
        "from sklearn.model_selection import train_test_split\n",
        "\n",
        "# First, split off the test set (15%)\n",
        "df_train_val, df_test = train_test_split(df_session, test_size=0.15, random_state=42, stratify=df_session[\"label\"])\n",
        "\n",
        "# Then, split the remaining data into train (70%) and validation (15%)\n",
        "# Since 15%/(85%) ≈ 0.176, use that as the validation size of the remaining data\n",
        "df_train, df_val = train_test_split(df_train_val, test_size=0.176, random_state=42, stratify=df_train_val[\"label\"])\n",
        "\n",
        "print(f\"Train shape: {df_train.shape}\")\n",
        "print(f\"Validation shape: {df_val.shape}\")\n",
        "print(f\"Test shape: {df_test.shape}\")\n",
        "\n",
        "drop_cols = [\"label\", \"unique_link_mark\"]\n",
        "x_train = df_train.drop(columns=drop_cols, errors='ignore').values\n",
        "y_train = df_train[\"label\"].values\n",
        "\n",
        "x_val = df_val.drop(columns=drop_cols, errors='ignore').values\n",
        "y_val = df_val[\"label\"].values\n",
        "\n",
        "x_test = df_test.drop(columns=drop_cols, errors='ignore').values\n",
        "y_test = df_test[\"label\"].values"
      ]
    },
    {
      "cell_type": "code",
      "execution_count": null,
      "metadata": {},
      "outputs": [],
      "source": [
        "from sklearn.preprocessing import MinMaxScaler\n",
        "scaler = MinMaxScaler()\n",
        "scaler.fit(x_train)\n",
        "x_train = scaler.transform(x_train)\n",
        "x_val = scaler.transform(x_val)\n",
        "x_test = scaler.transform(x_test)"
      ]
    },
    {
      "cell_type": "code",
      "execution_count": null,
      "metadata": {},
      "outputs": [],
      "source": [
        "import tensorflow as tf\n",
        "from tensorflow.keras.models import Sequential\n",
        "from tensorflow.keras.layers import Dense, Activation, Dropout\n",
        "from tensorflow.keras.callbacks import EarlyStopping"
      ]
    },
    {
      "cell_type": "code",
      "execution_count": null,
      "metadata": {},
      "outputs": [],
      "source": [
        "print(x_train.shape)\n",
        "print(x_test.shape)"
      ]
    },
    {
      "cell_type": "code",
      "execution_count": null,
      "metadata": {},
      "outputs": [],
      "source": [
        "model = Sequential()\n",
        "model.add(Dense(units=128, activation=\"relu\"))\n",
        "model.add(Dropout(0.20))\n",
        "model.add(Dense(units=64, activation=\"relu\"))\n",
        "model.add(Dropout(0.20))\n",
        "model.add(Dense(units=32, activation=\"relu\"))\n",
        "model.add(Dropout(0.10))\n",
        "model.add(Dense(units=1, activation=\"sigmoid\"))\n",
        "\n",
        "model.compile(loss=\"binary_crossentropy\", optimizer=\"adam\")\n"
      ]
    },
    {
      "cell_type": "code",
      "execution_count": null,
      "metadata": {},
      "outputs": [],
      "source": [
        "early_stop = EarlyStopping(monitor='val_loss', patience=5, restore_best_weights=True)\n",
        "model.fit(x=x_train, y=y_train, epochs=100, validation_data=(x_val,y_val), verbose=1, callbacks=[early_stop])"
      ]
    },
    {
      "cell_type": "code",
      "execution_count": null,
      "metadata": {},
      "outputs": [],
      "source": [
        "model_loss = pd.DataFrame(model.history.history)\n",
        "model_loss.plot()"
      ]
    },
    {
      "cell_type": "code",
      "execution_count": null,
      "metadata": {},
      "outputs": [],
      "source": [
        "from sklearn.metrics import classification_report, confusion_matrix, ConfusionMatrixDisplay\n",
        "y_pred_prob = model.predict(x_val)\n",
        "\n",
        "y_pred = (y_pred_prob > 0.5).astype(\"int32\")\n",
        "\n",
        "print(classification_report(y_val,y_pred=y_pred))\n",
        "cm = confusion_matrix(y_val,y_pred=y_pred)\n",
        "disp = ConfusionMatrixDisplay(confusion_matrix=cm, display_labels=[\"Legitimate\", \"Malicious\"])\n",
        "disp.plot(cmap=plt.cm.Blues)\n",
        "plt.title(\"Confusion Matrix\")\n",
        "plt.show()"
      ]
    },
    {
      "cell_type": "code",
      "execution_count": null,
      "metadata": {},
      "outputs": [],
      "source": [
        "from tensorflow.keras.models import load_model\n",
        "model.save(\"model.keras\")"
      ]
    },
    {
      "cell_type": "code",
      "execution_count": null,
      "metadata": {},
      "outputs": [],
      "source": [
        "import numpy as np\n",
        "\n",
        "# pick out the first example\n",
        "sample = x_test[0]              # shape: (18,)\n",
        "\n",
        "# reshape to (1, 18)\n",
        "sample_batch = np.expand_dims(sample, axis=0)"
      ]
    },
    {
      "cell_type": "code",
      "execution_count": null,
      "metadata": {},
      "outputs": [],
      "source": [
        "loaded_model = load_model(\"model.keras\")\n",
        "# now predict\n",
        "pred = loaded_model.predict(sample_batch)\n",
        "print(pred)                      # shape: (1, ...) – a single prediction"
      ]
    }
  ],
  "metadata": {
    "colab": {
      "provenance": []
    },
    "kernelspec": {
      "display_name": ".venv",
      "language": "python",
      "name": "python3"
    },
    "language_info": {
      "codemirror_mode": {
        "name": "ipython",
        "version": 3
      },
      "file_extension": ".py",
      "mimetype": "text/x-python",
      "name": "python",
      "nbconvert_exporter": "python",
      "pygments_lexer": "ipython3",
      "version": "3.10.0"
    }
  },
  "nbformat": 4,
  "nbformat_minor": 0
}
