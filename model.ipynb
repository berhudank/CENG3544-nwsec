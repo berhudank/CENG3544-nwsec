{
  "cells": [
    {
      "cell_type": "code",
      "execution_count": 24,
      "metadata": {},
      "outputs": [],
      "source": [
        "import pandas as pd\n",
        "import matplotlib.pyplot as plt\n",
        "import seaborn as sbn"
      ]
    },
    {
      "cell_type": "code",
      "execution_count": 25,
      "metadata": {
        "colab": {
          "base_uri": "https://localhost:8080/"
        },
        "id": "79Ivu0ZPjMRV",
        "outputId": "92b3aece-0ff8-44e2-d1c9-e30c83bf8a39"
      },
      "outputs": [
        {
          "name": "stdout",
          "output_type": "stream",
          "text": [
            "Loading packet-based trainset from: dataset/Train Set/packet_based_trainset.csv\n",
            "Loading packet-based testset from: dataset/Test Set/packet_based_testset.csv\n"
          ]
        }
      ],
      "source": [
        "# Set this to the exact file path of the packet-based dataset\n",
        "packet_trainset_path = \"dataset/Train Set/packet_based_trainset.csv\"\n",
        "packet_testset_path = \"dataset/Test Set/packet_based_testset.csv\"\n",
        "\n",
        "# Load the dataset with memory optimization\n",
        "print(f\"Loading packet-based trainset from: {packet_trainset_path}\")\n",
        "df_train = pd.read_csv(packet_trainset_path, low_memory=False)\n",
        "print(f\"Loading packet-based testset from: {packet_testset_path}\")\n",
        "df_test = pd.read_csv(packet_testset_path, low_memory=False)\n",
        "\n",
        "y_train = df_train[\"label\"].values\n",
        "y_test = df_test[\"label\"].values\n",
        "\n",
        "x_train = df_train.drop(columns=[\"label\", \"unique_link_mark\", \"Source_port\", \n",
        "                                 \"Destination_port\", \"source_IP_address\", \n",
        "                                 \"Destination_IP_address\" , \"Length_of_IP_packet_header\"]).values\n",
        "\n",
        "x_test = df_test.drop(columns=[\"label\", \"unique_link_mark\", \"Source_port\", \n",
        "                                 \"Destination_port\", \"source_IP_address\", \n",
        "                                 \"Destination_IP_address\" , \"Length_of_IP_packet_header\"]).values"
      ]
    },
    {
      "cell_type": "code",
      "execution_count": 26,
      "metadata": {},
      "outputs": [],
      "source": [
        "from sklearn.preprocessing import MinMaxScaler\n",
        "scaler = MinMaxScaler()\n",
        "scaler.fit(x_train)\n",
        "x_train = scaler.transform(x_train)\n",
        "x_test = scaler.transform(x_test)"
      ]
    },
    {
      "cell_type": "code",
      "execution_count": 27,
      "metadata": {},
      "outputs": [
        {
          "name": "stdout",
          "output_type": "stream",
          "text": [
            "Running on CPU only.\n"
          ]
        }
      ],
      "source": [
        "import tensorflow as tf\n",
        "from tensorflow.keras.models import Sequential\n",
        "from tensorflow.keras.layers import Dense, Activation, Dropout\n",
        "from tensorflow.keras.callbacks import EarlyStopping\n",
        "\n",
        "# Force CPU\n",
        "tf.config.set_visible_devices([], 'GPU')\n",
        "print(\"Running on CPU only.\")\n",
        "\n",
        "# # Ensure GPU is used (do NOT set visibility to empty)\n",
        "# gpus = tf.config.list_physical_devices('GPU')\n",
        "# if gpus:\n",
        "#     try:\n",
        "#         for gpu in gpus:\n",
        "#             tf.config.experimental.set_memory_growth(gpu, True)\n",
        "#         print(\"GPU(s) available:\", gpus)\n",
        "#     except RuntimeError as e:\n",
        "#         print(\"GPU setup error:\", e)\n",
        "# else:\n",
        "#     print(\"No GPU detected. This will run on CPU.\")"
      ]
    },
    {
      "cell_type": "code",
      "execution_count": 28,
      "metadata": {},
      "outputs": [
        {
          "name": "stdout",
          "output_type": "stream",
          "text": [
            "(4435304, 18)\n"
          ]
        }
      ],
      "source": [
        "print(x_train.shape)"
      ]
    },
    {
      "cell_type": "code",
      "execution_count": 29,
      "metadata": {},
      "outputs": [],
      "source": [
        "model = Sequential()\n",
        "model.add(Dense(units=18, activation=\"relu\"))\n",
        "model.add(Dense(units=9, activation=\"relu\"))\n",
        "model.add(Dense(units=9, activation=\"relu\"))\n",
        "model.add(Dense(units=1, activation=\"sigmoid\"))\n",
        "\n",
        "model.compile(loss=\"binary_crossentropy\", optimizer=\"adam\")\n"
      ]
    },
    {
      "cell_type": "code",
      "execution_count": 30,
      "metadata": {},
      "outputs": [
        {
          "name": "stdout",
          "output_type": "stream",
          "text": [
            "Epoch 1/10\n",
            "\u001b[1m138604/138604\u001b[0m \u001b[32m━━━━━━━━━━━━━━━━━━━━\u001b[0m\u001b[37m\u001b[0m \u001b[1m118s\u001b[0m 842us/step - loss: 0.0832 - val_loss: 0.0175\n",
            "Epoch 2/10\n",
            "\u001b[1m138604/138604\u001b[0m \u001b[32m━━━━━━━━━━━━━━━━━━━━\u001b[0m\u001b[37m\u001b[0m \u001b[1m118s\u001b[0m 848us/step - loss: 0.0197 - val_loss: 0.0221\n",
            "Epoch 3/10\n",
            "\u001b[1m138604/138604\u001b[0m \u001b[32m━━━━━━━━━━━━━━━━━━━━\u001b[0m\u001b[37m\u001b[0m \u001b[1m118s\u001b[0m 850us/step - loss: 0.0162 - val_loss: 0.0134\n",
            "Epoch 4/10\n",
            "\u001b[1m138604/138604\u001b[0m \u001b[32m━━━━━━━━━━━━━━━━━━━━\u001b[0m\u001b[37m\u001b[0m \u001b[1m119s\u001b[0m 858us/step - loss: 0.0144 - val_loss: 0.0133\n",
            "Epoch 5/10\n",
            "\u001b[1m138604/138604\u001b[0m \u001b[32m━━━━━━━━━━━━━━━━━━━━\u001b[0m\u001b[37m\u001b[0m \u001b[1m119s\u001b[0m 855us/step - loss: 0.0132 - val_loss: 0.0102\n",
            "Epoch 6/10\n",
            "\u001b[1m138604/138604\u001b[0m \u001b[32m━━━━━━━━━━━━━━━━━━━━\u001b[0m\u001b[37m\u001b[0m \u001b[1m119s\u001b[0m 860us/step - loss: 0.0124 - val_loss: 0.0103\n",
            "Epoch 7/10\n",
            "\u001b[1m138604/138604\u001b[0m \u001b[32m━━━━━━━━━━━━━━━━━━━━\u001b[0m\u001b[37m\u001b[0m \u001b[1m118s\u001b[0m 852us/step - loss: 0.0119 - val_loss: 0.0094\n",
            "Epoch 8/10\n",
            "\u001b[1m138604/138604\u001b[0m \u001b[32m━━━━━━━━━━━━━━━━━━━━\u001b[0m\u001b[37m\u001b[0m \u001b[1m118s\u001b[0m 853us/step - loss: 0.0115 - val_loss: 0.0170\n",
            "Epoch 9/10\n",
            "\u001b[1m138604/138604\u001b[0m \u001b[32m━━━━━━━━━━━━━━━━━━━━\u001b[0m\u001b[37m\u001b[0m \u001b[1m122s\u001b[0m 880us/step - loss: 0.0116 - val_loss: 0.0090\n",
            "Epoch 10/10\n",
            "\u001b[1m138604/138604\u001b[0m \u001b[32m━━━━━━━━━━━━━━━━━━━━\u001b[0m\u001b[37m\u001b[0m \u001b[1m118s\u001b[0m 848us/step - loss: 0.0111 - val_loss: 0.0138\n"
          ]
        },
        {
          "data": {
            "text/plain": [
              "<keras.src.callbacks.history.History at 0x7f07003546a0>"
            ]
          },
          "execution_count": 30,
          "metadata": {},
          "output_type": "execute_result"
        }
      ],
      "source": [
        "model.fit(x=x_train, y=y_train, epochs=10, validation_data=(x_test,y_test), verbose=1)"
      ]
    },
    {
      "cell_type": "code",
      "execution_count": 32,
      "metadata": {},
      "outputs": [
        {
          "data": {
            "text/plain": [
              "<Axes: >"
            ]
          },
          "execution_count": 32,
          "metadata": {},
          "output_type": "execute_result"
        },
        {
          "data": {
            "image/png": "[encoded data removed]",
            "text/plain": [
              "<Figure size 640x480 with 1 Axes>"
            ]
          },
          "metadata": {},
          "output_type": "display_data"
        }
      ],
      "source": [
        "model_loss = pd.DataFrame(model.history.history)\n",
        "model_loss.plot()"
      ]
    },
    {
      "cell_type": "code",
      "execution_count": 33,
      "metadata": {},
      "outputs": [],
      "source": [
        "from tensorflow.keras.models import load_model\n",
        "model.save(\"model.keras\")"
      ]
    },
    {
      "cell_type": "code",
      "execution_count": null,
      "metadata": {},
      "outputs": [],
      "source": [
        "import numpy as np\n",
        "\n",
        "# pick out the first example\n",
        "sample = x_test[0]              # shape: (18,)\n",
        "\n",
        "# reshape to (1, 18)\n",
        "sample_batch = np.expand_dims(sample, axis=0)"
      ]
    },
    {
      "cell_type": "code",
      "execution_count": 42,
      "metadata": {},
      "outputs": [
        {
          "name": "stdout",
          "output_type": "stream",
          "text": [
            "WARNING:tensorflow:6 out of the last 6 calls to <function TensorFlowTrainer.make_predict_function.<locals>.one_step_on_data_distributed at 0x7f07619c1480> triggered tf.function retracing. Tracing is expensive and the excessive number of tracings could be due to (1) creating @tf.function repeatedly in a loop, (2) passing tensors with different shapes, (3) passing Python objects instead of tensors. For (1), please define your @tf.function outside of the loop. For (2), @tf.function has reduce_retracing=True option that can avoid unnecessary retracing. For (3), please refer to https://www.tensorflow.org/guide/function#controlling_retracing and https://www.tensorflow.org/api_docs/python/tf/function for  more details.\n",
            "\u001b[1m1/1\u001b[0m \u001b[32m━━━━━━━━━━━━━━━━━━━━\u001b[0m\u001b[37m\u001b[0m \u001b[1m0s\u001b[0m 64ms/step\n",
            "[[0.9999951]]\n"
          ]
        }
      ],
      "source": [
        "loaded_model = load_model(\"model.keras\")\n",
        "# now predict\n",
        "pred = loaded_model.predict(sample_batch)\n",
        "print(pred)                      # shape: (1, ...) – a single prediction"
      ]
    },
    {
      "cell_type": "code",
      "execution_count": 43,
      "metadata": {},
      "outputs": [
        {
          "name": "stdout",
          "output_type": "stream",
          "text": [
            "1\n"
          ]
        }
      ],
      "source": [
        "print(y_train[0])"
      ]
    },
    {
      "cell_type": "code",
      "execution_count": null,
      "metadata": {},
      "outputs": [],
      "source": [
        "sbn.countplot(x=\"label\", data=df_train)"
      ]
    },
    {
      "cell_type": "code",
      "execution_count": null,
      "metadata": {
        "id": "bmZZx-DYgUsU"
      },
      "outputs": [],
      "source": [
        "df_train.sort_values(\"Time_cost\", ascending=False).head(20)"
      ]
    },
    {
      "cell_type": "code",
      "execution_count": null,
      "metadata": {},
      "outputs": [],
      "source": [
        "# Count unique values per column\n",
        "print(df_train.nunique())"
      ]
    },
    {
      "cell_type": "code",
      "execution_count": null,
      "metadata": {},
      "outputs": [],
      "source": [
        "df_train.corr(numeric_only=True)[\"label\"].sort_values()"
      ]
    }
  ],
  "metadata": {
    "colab": {
      "provenance": []
    },
    "kernelspec": {
      "display_name": ".venv",
      "language": "python",
      "name": "python3"
    },
    "language_info": {
      "codemirror_mode": {
        "name": "ipython",
        "version": 3
      },
      "file_extension": ".py",
      "mimetype": "text/x-python",
      "name": "python",
      "nbconvert_exporter": "python",
      "pygments_lexer": "ipython3",
      "version": "3.10.12"
    }
  },
  "nbformat": 4,
  "nbformat_minor": 0
}
